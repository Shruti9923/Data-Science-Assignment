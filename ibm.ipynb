{
 "cells": [
  {
   "cell_type": "markdown",
   "id": "ba620898-9ec9-4eaa-9253-4af770df6fe1",
   "metadata": {},
   "source": [
    "# Data Science Tools and Ecosystem\n"
   ]
  },
  {
   "cell_type": "markdown",
   "id": "6cf8c0c4-39fc-4148-b7ff-cfce69df433a",
   "metadata": {},
   "source": [
    "## Introduction\n",
    "In this notebook, we will explore various tools, libraries, and concepts used in Data Science. This includes popular programming languages, libraries, tools, and examples of arithmetic expressions.\n"
   ]
  },
  {
   "cell_type": "markdown",
   "id": "5b1dcfd7-959d-4bd1-acfa-61c44d7faecc",
   "metadata": {},
   "source": [
    "## Data Science Languages\n",
    "1. Python  \n",
    "2. R  \n",
    "3. SQL  \n",
    "4. Julia  \n",
    "5. Scala  \n"
   ]
  },
  {
   "cell_type": "markdown",
   "id": "20d01ec0-44a3-4959-919b-f14807820ee6",
   "metadata": {},
   "source": [
    "## Data Science Libraries\n",
    "- NumPy  \n",
    "- Pandas  \n",
    "- Matplotlib  \n",
    "- Scikit-learn  \n",
    "- TensorFlow  \n",
    "- PyTorch  \n"
   ]
  },
  {
   "cell_type": "markdown",
   "id": "f052290d-6e95-4b40-ae20-e1bfb7351c1b",
   "metadata": {},
   "source": [
    "## Data Science Tools\n",
    "| Tool             | Description                             |\n",
    "|------------------|-----------------------------------------|\n",
    "| Jupyter Notebook | Interactive environment for coding      |\n",
    "| RStudio          | IDE for R programming                  |\n",
    "| Apache Spark     | Big data processing framework          |\n",
    "| Tableau          | Data visualization and business insights |\n",
    "| MATLAB           | Numerical computing environment        |\n"
   ]
  },
  {
   "cell_type": "markdown",
   "id": "d5667d3a-f0df-4859-a2eb-d941c949bed0",
   "metadata": {},
   "source": [
    "## Arithmetic Expression Examples\n",
    "Arithmetic expressions are used to perform mathematical operations like addition, subtraction, multiplication, and division.\n"
   ]
  },
  {
   "cell_type": "code",
   "execution_count": 16,
   "id": "0babf554-7ad9-4748-8bb3-14bc7894b7ce",
   "metadata": {},
   "outputs": [
    {
     "name": "stdout",
     "output_type": "stream",
     "text": [
      "The result of the expression is: 22\n"
     ]
    }
   ],
   "source": [
    "# Multiplying and adding numbers\n",
    "result = (5 * 3) + 7\n",
    "print(\"The result of the expression is:\", result)\n"
   ]
  },
  {
   "cell_type": "code",
   "execution_count": 18,
   "id": "ab33e0e1-2f4e-46c4-8f8f-e67fdf1cf88e",
   "metadata": {},
   "outputs": [
    {
     "name": "stdout",
     "output_type": "stream",
     "text": [
      "150 minutes is equal to 2.5 hours.\n"
     ]
    }
   ],
   "source": [
    "# Converting minutes to hours\n",
    "minutes = 150\n",
    "hours = minutes / 60\n",
    "print(f\"{minutes} minutes is equal to {hours} hours.\")\n"
   ]
  },
  {
   "cell_type": "markdown",
   "id": "78f973a1-91c6-45bd-ab73-e759968942c2",
   "metadata": {},
   "source": [
    "## Objectives\n",
    "- Understand key Data Science languages and libraries.  \n",
    "- Learn about various tools used in Data Science.  \n",
    "- Perform basic arithmetic operations using Python.  \n",
    "- Convert time units using Python code.  \n"
   ]
  },
  {
   "cell_type": "markdown",
   "id": "fda30f7d-29d1-4666-bf38-41aff1ebf700",
   "metadata": {},
   "source": [
    "## Author\n",
    "Shruti Deshmane\n"
   ]
  },
  {
   "cell_type": "code",
   "execution_count": null,
   "id": "0c8a3baa-9a50-4397-aa91-3c8276af14c6",
   "metadata": {},
   "outputs": [],
   "source": []
  }
 ],
 "metadata": {
  "kernelspec": {
   "display_name": "Python 3 (ipykernel)",
   "language": "python",
   "name": "python3"
  },
  "language_info": {
   "codemirror_mode": {
    "name": "ipython",
    "version": 3
   },
   "file_extension": ".py",
   "mimetype": "text/x-python",
   "name": "python",
   "nbconvert_exporter": "python",
   "pygments_lexer": "ipython3",
   "version": "3.12.4"
  }
 },
 "nbformat": 4,
 "nbformat_minor": 5
}
